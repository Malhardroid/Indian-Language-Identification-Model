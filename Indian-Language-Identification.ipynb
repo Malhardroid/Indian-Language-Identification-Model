{
  "nbformat": 4,
  "nbformat_minor": 0,
  "metadata": {
    "colab": {
      "provenance": []
    },
    "kernelspec": {
      "name": "python3",
      "display_name": "Python 3"
    },
    "language_info": {
      "name": "python"
    }
  },
  "cells": [
    {
      "cell_type": "markdown",
      "source": [
        "#imports"
      ],
      "metadata": {
        "id": "AIxADIrj5iKS"
      }
    },
    {
      "cell_type": "code",
      "execution_count": 1,
      "metadata": {
        "colab": {
          "base_uri": "https://localhost:8080/"
        },
        "id": "HM5-JO7Dbrwa",
        "outputId": "4eea673c-5346-4e38-b218-e08a16bc6bf0"
      },
      "outputs": [
        {
          "output_type": "stream",
          "name": "stdout",
          "text": [
            "Collecting fasttext\n",
            "  Downloading fasttext-0.9.3.tar.gz (73 kB)\n",
            "\u001b[2K     \u001b[90m━━━━━━━━━━━━━━━━━━━━━━━━━━━━━━━━━━━━━━━━\u001b[0m \u001b[32m73.4/73.4 kB\u001b[0m \u001b[31m2.0 MB/s\u001b[0m eta \u001b[36m0:00:00\u001b[0m\n",
            "\u001b[?25h  Installing build dependencies ... \u001b[?25l\u001b[?25hdone\n",
            "  Getting requirements to build wheel ... \u001b[?25l\u001b[?25hdone\n",
            "  Preparing metadata (pyproject.toml) ... \u001b[?25l\u001b[?25hdone\n",
            "Collecting pybind11>=2.2 (from fasttext)\n",
            "  Using cached pybind11-2.13.6-py3-none-any.whl.metadata (9.5 kB)\n",
            "Requirement already satisfied: setuptools>=0.7.0 in /usr/local/lib/python3.10/dist-packages (from fasttext) (71.0.4)\n",
            "Requirement already satisfied: numpy in /usr/local/lib/python3.10/dist-packages (from fasttext) (1.26.4)\n",
            "Using cached pybind11-2.13.6-py3-none-any.whl (243 kB)\n",
            "Building wheels for collected packages: fasttext\n",
            "  Building wheel for fasttext (pyproject.toml) ... \u001b[?25l\u001b[?25hdone\n",
            "  Created wheel for fasttext: filename=fasttext-0.9.3-cp310-cp310-linux_x86_64.whl size=4296186 sha256=a88cb2e01384f95d99bc8beaa2950fee9c9aff0e1c752880960da6796bccb460\n",
            "  Stored in directory: /root/.cache/pip/wheels/0d/a2/00/81db54d3e6a8199b829d58e02cec2ddb20ce3e59fad8d3c92a\n",
            "Successfully built fasttext\n",
            "Installing collected packages: pybind11, fasttext\n",
            "Successfully installed fasttext-0.9.3 pybind11-2.13.6\n",
            "Requirement already satisfied: transformers in /usr/local/lib/python3.10/dist-packages (4.44.2)\n",
            "Requirement already satisfied: filelock in /usr/local/lib/python3.10/dist-packages (from transformers) (3.16.1)\n",
            "Requirement already satisfied: huggingface-hub<1.0,>=0.23.2 in /usr/local/lib/python3.10/dist-packages (from transformers) (0.24.7)\n",
            "Requirement already satisfied: numpy>=1.17 in /usr/local/lib/python3.10/dist-packages (from transformers) (1.26.4)\n",
            "Requirement already satisfied: packaging>=20.0 in /usr/local/lib/python3.10/dist-packages (from transformers) (24.1)\n",
            "Requirement already satisfied: pyyaml>=5.1 in /usr/local/lib/python3.10/dist-packages (from transformers) (6.0.2)\n",
            "Requirement already satisfied: regex!=2019.12.17 in /usr/local/lib/python3.10/dist-packages (from transformers) (2024.9.11)\n",
            "Requirement already satisfied: requests in /usr/local/lib/python3.10/dist-packages (from transformers) (2.32.3)\n",
            "Requirement already satisfied: safetensors>=0.4.1 in /usr/local/lib/python3.10/dist-packages (from transformers) (0.4.5)\n",
            "Requirement already satisfied: tokenizers<0.20,>=0.19 in /usr/local/lib/python3.10/dist-packages (from transformers) (0.19.1)\n",
            "Requirement already satisfied: tqdm>=4.27 in /usr/local/lib/python3.10/dist-packages (from transformers) (4.66.5)\n",
            "Requirement already satisfied: fsspec>=2023.5.0 in /usr/local/lib/python3.10/dist-packages (from huggingface-hub<1.0,>=0.23.2->transformers) (2024.6.1)\n",
            "Requirement already satisfied: typing-extensions>=3.7.4.3 in /usr/local/lib/python3.10/dist-packages (from huggingface-hub<1.0,>=0.23.2->transformers) (4.12.2)\n",
            "Requirement already satisfied: charset-normalizer<4,>=2 in /usr/local/lib/python3.10/dist-packages (from requests->transformers) (3.3.2)\n",
            "Requirement already satisfied: idna<4,>=2.5 in /usr/local/lib/python3.10/dist-packages (from requests->transformers) (3.10)\n",
            "Requirement already satisfied: urllib3<3,>=1.21.1 in /usr/local/lib/python3.10/dist-packages (from requests->transformers) (2.2.3)\n",
            "Requirement already satisfied: certifi>=2017.4.17 in /usr/local/lib/python3.10/dist-packages (from requests->transformers) (2024.8.30)\n"
          ]
        }
      ],
      "source": [
        "!pip3 install fasttext\n",
        "!pip3 install transformers"
      ]
    },
    {
      "cell_type": "code",
      "source": [
        "import zipfile\n",
        "import os\n",
        "import re\n",
        "import pandas as pd\n",
        "import fasttext\n",
        "from collections import defaultdict\n",
        "from sklearn.feature_extraction.text import CountVectorizer\n",
        "from sklearn.model_selection import train_test_split\n",
        "from sklearn.naive_bayes import MultinomialNB\n",
        "from sklearn.metrics import classification_report"
      ],
      "metadata": {
        "id": "UHlWdhoJhl2h"
      },
      "execution_count": 2,
      "outputs": []
    },
    {
      "cell_type": "markdown",
      "source": [
        "#dataset"
      ],
      "metadata": {
        "id": "HIceeNT1k2Wx"
      }
    },
    {
      "cell_type": "code",
      "source": [
        "zip_file_path = '/content/native_script_train_valid_data.zip'\n",
        "extract_to = 'extracted_data/'\n",
        "\n",
        "os.makedirs(extract_to, exist_ok=True)\n",
        "\n",
        "with zipfile.ZipFile(zip_file_path, 'r') as zip_ref:\n",
        "    zip_ref.extractall(extract_to)"
      ],
      "metadata": {
        "id": "DHk8Nczzhm7H"
      },
      "execution_count": 3,
      "outputs": []
    },
    {
      "cell_type": "code",
      "source": [
        "data_file_path = os.path.join('/content/extracted_data/Native_script_data', 'train_combine.txt')\n",
        "\n",
        "data = pd.read_csv(data_file_path, sep='\\t', header=None, usecols=[0], names=['labels'])\n",
        "\n",
        "print(data.head())"
      ],
      "metadata": {
        "id": "76j7skXwngQH",
        "colab": {
          "base_uri": "https://localhost:8080/"
        },
        "outputId": "a2c0c42f-858c-46e1-99e4-2b9a0c2e0b62"
      },
      "execution_count": 4,
      "outputs": [
        {
          "output_type": "stream",
          "name": "stdout",
          "text": [
            "                                              labels\n",
            "0  __label__Kashmiri_Arab ترو وہن شتَن شعرن منز و...\n",
            "1  __label__Kannada ವೀರೇಶ , ರೋಜಲಿನ್ ಆಡಂ , ಮುದ್ದೆ ...\n",
            "2  __label__Nepali उनीहरूले तपाईंलाई स्पष्ट लिखित...\n",
            "3  __label__Manipuri_Mei ꯍꯤꯕꯤ ꯅꯠꯇ꯭ꯔꯒ ꯍꯦꯕꯦ ꯑꯁꯤ ꯒ꯭ꯔ...\n",
            "4  __label__Hindi बाबा - ए - उर्दू के मौलवी अब्दु...\n"
          ]
        }
      ]
    },
    {
      "cell_type": "code",
      "source": [
        "formatted_data_path = '/content/extracted_data/Native_script_data/train_combine.txt'\n",
        "\n",
        "print(\"Using formatted data for FastText training from:\", formatted_data_path)"
      ],
      "metadata": {
        "id": "MlqaOLS7q_4P",
        "colab": {
          "base_uri": "https://localhost:8080/"
        },
        "outputId": "be966bee-33b7-4730-a4a4-5931bea7dbd2"
      },
      "execution_count": 5,
      "outputs": [
        {
          "output_type": "stream",
          "name": "stdout",
          "text": [
            "Using formatted data for FastText training from: /content/extracted_data/Native_script_data/train_combine.txt\n"
          ]
        }
      ]
    },
    {
      "cell_type": "code",
      "source": [
        "def count_sentences_per_language(file_path):\n",
        "    language_count = defaultdict(int)\n",
        "\n",
        "    with open(file_path, 'r') as f:\n",
        "        for line in f:\n",
        "            language_label, _ = line.strip().split(' ', 1)\n",
        "            language = language_label.replace('__label__', '')\n",
        "            language_count[language] += 1\n",
        "\n",
        "    return language_count\n",
        "\n",
        "train_data_path = '/content/extracted_data/Native_script_data/train_combine.txt'\n",
        "valid_data_path = '/content/extracted_data/Native_script_data/valid_combine.txt'\n",
        "\n",
        "train_language_counts = count_sentences_per_language(train_data_path)\n",
        "valid_language_counts = count_sentences_per_language(valid_data_path)\n",
        "\n",
        "\n",
        "print(\"Sentence counts in training data:\")\n",
        "for language, count in train_language_counts.items():\n",
        "    print(f\"{language}: {count}\")\n",
        "\n",
        "print(\"\\nSentence counts in validation data:\")\n",
        "for language, count in valid_language_counts.items():\n",
        "    print(f\"{language}: {count}\")"
      ],
      "metadata": {
        "id": "_Jyrqu421E7d",
        "colab": {
          "base_uri": "https://localhost:8080/"
        },
        "outputId": "fe900083-d777-4dc7-cf9f-f863941460d4"
      },
      "execution_count": 6,
      "outputs": [
        {
          "output_type": "stream",
          "name": "stdout",
          "text": [
            "Sentence counts in training data:\n",
            "Kashmiri_Arab: 100000\n",
            "Kannada: 100000\n",
            "Nepali: 115554\n",
            "Manipuri_Mei: 100000\n",
            "Hindi: 100000\n",
            "Tamil: 100000\n",
            "Telugu: 100000\n",
            "Oriya: 100000\n",
            "Urdu: 105282\n",
            "Manipuri_Beng: 100000\n",
            "Bodo: 108240\n",
            "Marathi: 100000\n",
            "Sanskrit: 102315\n",
            "Assamese: 100000\n",
            "Maithili: 100277\n",
            "Punjabi: 100000\n",
            "Gujarati: 100000\n",
            "Other: 100000\n",
            "Bangla: 100000\n",
            "Malayalam: 100000\n",
            "Dogri: 100000\n",
            "Konkani: 100000\n",
            "Kashmiri_Deva: 100000\n",
            "Sindhi: 100000\n",
            "English: 100000\n",
            "Santali: 100000\n",
            "\n",
            "Sentence counts in validation data:\n",
            "Kashmiri_Arab: 1497\n",
            "Bangla: 5997\n",
            "Tamil: 5997\n",
            "Manipuri_Beng: 997\n",
            "Marathi: 5997\n",
            "Sindhi: 5996\n",
            "Gujarati: 5997\n",
            "Malayalam: 5997\n",
            "Punjabi: 5997\n",
            "Telugu: 5997\n",
            "Hindi: 5997\n",
            "Assamese: 997\n",
            "Kannada: 5997\n",
            "Urdu: 6376\n",
            "Oriya: 997\n",
            "Maithili: 1497\n",
            "Sanskrit: 1497\n",
            "English: 997\n",
            "Manipuri_Mei: 500\n",
            "Nepali: 1497\n",
            "Konkani: 500\n",
            "Bodo: 500\n",
            "Dogri: 120\n",
            "Kashmiri_Deva: 997\n",
            "Santali: 345\n"
          ]
        }
      ]
    },
    {
      "cell_type": "markdown",
      "source": [
        "#model training"
      ],
      "metadata": {
        "id": "V3WwHMi8sJrN"
      }
    },
    {
      "cell_type": "code",
      "source": [
        "model = fasttext.train_supervised(\n",
        "    input=formatted_data_path,\n",
        "    label_prefix='__label__',\n",
        "    epoch=50,\n",
        "    lr=0.1,\n",
        ")\n",
        "\n",
        "model.save_model('/content/extracted_data/Native_script_data/language_id_model.ftz')\n",
        "\n",
        "print(\"model trained\")"
      ],
      "metadata": {
        "id": "i2Ipk3UVrIfI",
        "colab": {
          "base_uri": "https://localhost:8080/"
        },
        "outputId": "54d3c12e-8cb9-448d-c0f6-f5811ce58e0d"
      },
      "execution_count": 7,
      "outputs": [
        {
          "output_type": "stream",
          "name": "stdout",
          "text": [
            "model trained\n"
          ]
        }
      ]
    },
    {
      "cell_type": "markdown",
      "source": [
        "#prediction"
      ],
      "metadata": {
        "id": "TxFvIynRsRKI"
      }
    },
    {
      "cell_type": "code",
      "source": [
        "new_text = \"এইটো এটা উদাহৰণ বিবৃতি\"\n",
        "\n",
        "predicted_label = model.predict(new_text)\n",
        "\n",
        "print(f\"Predicted Language: {predicted_label[0][0].replace('__label__', '')}\")"
      ],
      "metadata": {
        "id": "i9ulY5e4sSlP",
        "colab": {
          "base_uri": "https://localhost:8080/"
        },
        "outputId": "b8ae7cc0-3971-4fd3-f55f-624cc3ec1e04"
      },
      "execution_count": 8,
      "outputs": [
        {
          "output_type": "stream",
          "name": "stdout",
          "text": [
            "Predicted Language: Assamese\n"
          ]
        }
      ]
    },
    {
      "cell_type": "markdown",
      "source": [
        "#evaluation"
      ],
      "metadata": {
        "id": "DQTLuDnJx2wy"
      }
    },
    {
      "cell_type": "code",
      "source": [
        "test_data_path = '/content/extracted_data/Native_script_data/valid_combine.txt'\n",
        "\n",
        "test_results = model.test(test_data_path)\n",
        "\n",
        "n_examples, precision, recall = test_results\n",
        "\n",
        "print(f\"Number of examples: {n_examples}\")\n",
        "print(f\"Precision: {precision:.4f}\")\n",
        "print(f\"Recall: {recall:.4f}\")"
      ],
      "metadata": {
        "id": "1d6Z3ZIL5Htp",
        "colab": {
          "base_uri": "https://localhost:8080/"
        },
        "outputId": "cb50fcaf-7790-47f9-a46c-094747fe72f6"
      },
      "execution_count": 9,
      "outputs": [
        {
          "output_type": "stream",
          "name": "stdout",
          "text": [
            "Number of examples: 79283\n",
            "Precision: 0.9316\n",
            "Recall: 0.9316\n"
          ]
        }
      ]
    },
    {
      "cell_type": "code",
      "source": [
        "model = fasttext.load_model('/content/extracted_data/Native_script_data/language_id_model.ftz')\n",
        "\n",
        "\n",
        "test_data_path = '/content/extracted_data/Native_script_data/valid_combine.txt'\n",
        "\n",
        "\n",
        "with open(test_data_path, 'r') as f:\n",
        "    test_data = [line.strip().split(' ', 1) for line in f]\n",
        "\n",
        "\n",
        "test_df = pd.DataFrame(test_data, columns=['language', 'text'])\n",
        "\n",
        "\n",
        "test_df['language'] = test_df['language'].str.replace('__label__', '')\n",
        "\n",
        "\n",
        "test_df['predicted_language'] = test_df['text'].apply(lambda x: model.predict(x)[0][0])\n",
        "test_df['predicted_language'] = test_df['predicted_language'].str.replace('__label__', '')\n",
        "\n",
        "\n",
        "language_accuracy = {}\n",
        "\n",
        "\n",
        "for language in test_df['language'].unique():\n",
        "\n",
        "    total_instances = test_df[test_df['language'] == language].shape[0]\n",
        "\n",
        "    correct_predictions = test_df[(test_df['language'] == language) & (test_df['predicted_language'] == language)].shape[0]\n",
        "\n",
        "    accuracy = correct_predictions / total_instances if total_instances > 0 else 0\n",
        "    language_accuracy[language] = accuracy\n",
        "\n",
        "for language, accuracy in language_accuracy.items():\n",
        "    print(f\"Accuracy for {language}: {accuracy:.4f}\")"
      ],
      "metadata": {
        "id": "r3aGRsc-x5cl",
        "colab": {
          "base_uri": "https://localhost:8080/"
        },
        "outputId": "dc88d04e-64d3-47b5-a91f-4bda959398af"
      },
      "execution_count": 10,
      "outputs": [
        {
          "output_type": "stream",
          "name": "stdout",
          "text": [
            "Accuracy for Kashmiri_Arab: 0.9846\n",
            "Accuracy for Bangla: 0.9475\n",
            "Accuracy for Tamil: 0.9210\n",
            "Accuracy for Manipuri_Beng: 0.9840\n",
            "Accuracy for Marathi: 0.8571\n",
            "Accuracy for Sindhi: 0.9830\n",
            "Accuracy for Gujarati: 0.9633\n",
            "Accuracy for Malayalam: 0.9231\n",
            "Accuracy for Punjabi: 0.9747\n",
            "Accuracy for Telugu: 0.8889\n",
            "Accuracy for Hindi: 0.8586\n",
            "Accuracy for Assamese: 0.9970\n",
            "Accuracy for Kannada: 0.9540\n",
            "Accuracy for Urdu: 0.8802\n",
            "Accuracy for Oriya: 0.9990\n",
            "Accuracy for Maithili: 0.9345\n",
            "Accuracy for Sanskrit: 0.9679\n",
            "Accuracy for English: 0.9930\n",
            "Accuracy for Manipuri_Mei: 1.0000\n",
            "Accuracy for Nepali: 0.9893\n",
            "Accuracy for Konkani: 0.9860\n",
            "Accuracy for Bodo: 0.9860\n",
            "Accuracy for Dogri: 0.9917\n",
            "Accuracy for Kashmiri_Deva: 0.9428\n",
            "Accuracy for Santali: 1.0000\n"
          ]
        }
      ]
    }
  ]
}